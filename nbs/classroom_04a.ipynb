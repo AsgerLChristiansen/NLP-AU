{
 "cells": [
  {
   "cell_type": "markdown",
   "metadata": {},
   "source": [
    "# Classification using ```pytorch``` - Logistic Regression Classifier\n",
    "The first thing we're going to do, as usual, is begin by importing libraries and modules we're going to use today. We're introducing a new library, called ```datasets```, which is part of the ```huggingface``` unviverse. \n",
    "\n",
    "```datasets``` provides easy access to a wide range of example datasets which are widely-known in the NLP world, it's worth spending some time looking around to see what you can find. For example, here are a collection of [multilabel classification datasets](https://huggingface.co/datasets?task_ids=task_ids:multi-class-classification&sort=downloads).\n",
    "\n",
    "We'll be working with the ```huggingface``` ecosystem more and more as we progress this semester."
   ]
  },
  {
   "cell_type": "code",
   "execution_count": 1,
   "metadata": {},
   "outputs": [],
   "source": [
    "# system tools\n",
    "import os\n",
    "\n",
    "# pytorch\n",
    "import torch\n",
    "import torch.nn as nn\n",
    "\n",
    "# data processing\n",
    "import pandas as pd\n",
    "import numpy as np\n",
    "\n",
    "# huggingface datasets\n",
    "from datasets import load_dataset\n",
    "\n",
    "# scikit learn tools\n",
    "from sklearn.metrics import classification_report\n",
    "from sklearn.feature_extraction.text import CountVectorizer\n",
    "\n",
    "# plotting tools\n",
    "import matplotlib.pyplot as plt"
   ]
  },
  {
   "cell_type": "markdown",
   "metadata": {},
   "source": [
    "\n",
    "__Creating a model class__\n",
    "\n",
    "The most effective way to work with ```pytorch``` is by using its built-in abstractions to create classes which describe specfic models.\n",
    "\n",
    "In the following cell, we're defining the Logistic Regression classifier model. Notice how we use the ```super()```, which means that our model _inherits_ everything from the parent class, such as backpropagation methods."
   ]
  },
  {
   "cell_type": "code",
   "execution_count": 2,
   "metadata": {},
   "outputs": [],
   "source": [
    "class Model(nn.Module):\n",
    "    def __init__(self, n_input_features=10):            # default input features, can be overridden\n",
    "        super().__init__()                              # inherit from parent class\n",
    "        self.linear = nn.Linear(n_input_features, 1)    # one linear layer with single output\n",
    "\n",
    "    def forward(self, x):                               # how should one forward pass look?\n",
    "        x = self.linear(x)                              # pass the data through the linear layer\n",
    "        y_pred = torch.sigmoid(x)                       # squash the outputs through sigmoid layer\n",
    "        return y_pred                                   # return predictions"
   ]
  },
  {
   "cell_type": "markdown",
   "metadata": {},
   "source": [
    "## Load data\n",
    "We're going to be working with actual text data data, specifically a subset of the well-known [GLUE Benchmarks](https://gluebenchmark.com/). These benchmarks are regularly used to test how well certain models perform across a range of different language tasks. We'll work today specifically with the Stanford Sentiment Treebank 2 (SST2) - you can learn more [here](https://huggingface.co/datasets/glue) and [here](https://nlp.stanford.edu/sentiment/index.html).\n",
    "\n",
    "The dataset we get back is a complex, hierarchical object with lots of different features. I recommend that you dig around a little and see what it contains. For today, we're going to work with only the training dataset right now, and we're going to split it into sentences and labels."
   ]
  },
  {
   "cell_type": "code",
   "execution_count": 4,
   "metadata": {},
   "outputs": [
    {
     "name": "stderr",
     "output_type": "stream",
     "text": [
      "Found cached dataset glue (/home/coder/.cache/huggingface/datasets/glue/sst2/1.0.0/dacbe3125aa31d7f70367a07a8a9e72a5a0bfeb5fc42e75c9db75b96da6053ad)\n"
     ]
    },
    {
     "data": {
      "application/vnd.jupyter.widget-view+json": {
       "model_id": "244cddcf8c254f74baa2a7e1dd8b5cb6",
       "version_major": 2,
       "version_minor": 0
      },
      "text/plain": [
       "  0%|          | 0/3 [00:00<?, ?it/s]"
      ]
     },
     "metadata": {},
     "output_type": "display_data"
    }
   ],
   "source": [
    "# load the sst2 dataset\n",
    "dataset = load_dataset(\"glue\", \"sst2\")\n",
    "# select the train split\n",
    "data = dataset[\"train\"]\n",
    "X = data[\"sentence\"]\n",
    "y = data[\"label\"]"
   ]
  },
  {
   "cell_type": "markdown",
   "metadata": {},
   "source": [
    "\n",
    "## Create document representations\n",
    "We're going to work with a bag-of-words model, which we can create quite simply using the ```CountVectorizer()``` class available via ```scikit-learn```. You can read more about the defaul parameters of the vectorizer [here](https://scikit-learn.org/stable/modules/generated/sklearn.feature_extraction.text.CountVectorizer.html).\n",
    "\n",
    "After we initialize the vectorizer, we first _fit_ this vectorizer to our data and then _transform_ the original data into the BoW representation.\n",
    "\n",
    "Possible follow up questions:\n",
    "\n",
    "- How does changing the parameters of ```CountVectorizer()``` affect model performance?\n",
    "- How would you implement your own ```CountVectorizer()```? What steps would be required and in what order?"
   ]
  },
  {
   "cell_type": "code",
   "execution_count": 5,
   "metadata": {},
   "outputs": [],
   "source": [
    "# vectorizer\n",
    "vectorizer = CountVectorizer()\n",
    "# vectorized training data\n",
    "X_vect = vectorizer.fit_transform(X)\n",
    "# to tensors\n",
    "X_vect = torch.tensor(X_vect.toarray(), dtype=torch.float)\n",
    "y = torch.tensor(list(y), dtype=torch.float)\n",
    "y = y.view(y.shape[0], 1)"
   ]
  },
  {
   "cell_type": "markdown",
   "metadata": {},
   "source": [
    "\n",
    "## Initialize parameters\n",
    "We then want to initialize parameters for our model to use. Like last week, use ```X_vect.shape``` to get the number of features for each document.\n",
    "\n",
    "We have binary classification problem, so the loss function we will use is the _Binary Cross Entropy_ function, seen here as ```BCELoss()```.\n",
    "\n",
    "Notice that we're using a new optimization algorithm called ```ADAM```. ADAM is a gradient descent algorithm which works in a way that is a bit more clever than regular Stochastic Gradient Descent. You can read more [here](http://optimization.cbe.cornell.edu/index.php?title=Adam) and the research paper describing ```ADAM``` can be found [here](https://arxiv.org/abs/1412.6980)."
   ]
  },
  {
   "cell_type": "code",
   "execution_count": 7,
   "metadata": {},
   "outputs": [],
   "source": [
    "# initialize model\n",
    "n_samples, n_features = X_vect.shape\n",
    "model = Model(n_input_features=n_features)\n",
    "\n",
    "# define loss and optimizer\n",
    "criterion = nn.BCELoss()\n",
    "optimizer = torch.optim.AdamW(model.parameters())"
   ]
  },
  {
   "cell_type": "markdown",
   "metadata": {},
   "source": [
    "## Train\n",
    "Once all of the parameters are defined, we then train the model. Notice how the code here is basically identical to the code we saw last week when training a model for linear regression:\n",
    "\n",
    "- Define number of epochs to train for (iterations)\n",
    "- Get predictions from the model (```y_hat```)\n",
    "- Calculate loss based on ```y_hat``` and ```y```\n",
    "- Backpropagate the loss\n",
    "- Take step using gradient descent\n",
    "- Repeat up to n epochs"
   ]
  },
  {
   "cell_type": "code",
   "execution_count": 8,
   "metadata": {},
   "outputs": [
    {
     "name": "stdout",
     "output_type": "stream",
     "text": [
      "[INFO:] Training classifier...\n",
      "epoch: 10, loss = 0.6800\n",
      "epoch: 20, loss = 0.6664\n",
      "epoch: 30, loss = 0.6536\n",
      "epoch: 40, loss = 0.6416\n",
      "epoch: 50, loss = 0.6301\n",
      "epoch: 60, loss = 0.6193\n",
      "epoch: 70, loss = 0.6091\n",
      "epoch: 80, loss = 0.5993\n",
      "epoch: 90, loss = 0.5900\n",
      "epoch: 100, loss = 0.5812\n",
      "[INFO:] Finished traning!\n"
     ]
    }
   ],
   "source": [
    "# train\n",
    "epochs = 100\n",
    "print(\"[INFO:] Training classifier...\")\n",
    "loss_history = []\n",
    "for epoch in range(epochs):\n",
    "    # forward\n",
    "    y_hat = model(X_vect)\n",
    "\n",
    "    # backward\n",
    "    loss = criterion(y_hat, y)\n",
    "    loss_history.append(loss)\n",
    "\n",
    "    # backpropagation\n",
    "    loss.backward()\n",
    "    # take step, reset\n",
    "    optimizer.step()\n",
    "    optimizer.zero_grad()\n",
    "\n",
    "    # some print to see that it is running\n",
    "    if (epoch + 1) % 10 == 0:\n",
    "        print(f\"epoch: {epoch+1}, loss = {loss.item():.4f}\")\n",
    "\n",
    "print(\"[INFO:] Finished traning!\")"
   ]
  },
  {
   "cell_type": "markdown",
   "metadata": {},
   "source": [
    "## Evaluate\n",
    "\n",
    "Now that we've trained a model for 1000 steps, we want to know how well it actually performs when classifying the data. We can test this by just checking how accurately it classifies the training data.\n",
    "\n",
    "The first thing we do is get predictions from the model for every data point, which we then convert to a ```numpy``` array. Using a ```numpy``` array allows us to easily use the ```classification_report``` available from ```scikit-learn```."
   ]
  },
  {
   "cell_type": "code",
   "execution_count": 9,
   "metadata": {},
   "outputs": [
    {
     "name": "stdout",
     "output_type": "stream",
     "text": [
      "              precision    recall  f1-score   support\n",
      "\n",
      "    Negative       0.87      0.74      0.80     29780\n",
      "    Positive       0.82      0.91      0.86     37569\n",
      "\n",
      "    accuracy                           0.84     67349\n",
      "   macro avg       0.85      0.83      0.83     67349\n",
      "weighted avg       0.84      0.84      0.84     67349\n",
      "\n"
     ]
    }
   ],
   "source": [
    "# Plot\n",
    "predicted = model(X_vect).detach().numpy()\n",
    "print(classification_report(y, \n",
    "                            np.where(predicted > 0.5, 1, 0),\n",
    "                            target_names = [\"Negative\", \"Positive\"]))"
   ]
  },
  {
   "cell_type": "markdown",
   "metadata": {},
   "source": [
    "Notice that in the context of machine learning, the name ```recall``` is used in terms of ```sensitivity```.\n"
   ]
  },
  {
   "cell_type": "markdown",
   "metadata": {},
   "source": [
    "![ConfusionMatrix](../img/confusionMatrix.jpg \"Title\")"
   ]
  },
  {
   "cell_type": "markdown",
   "metadata": {},
   "source": [
    "## Plot loss history\n",
    "\n",
    "When we plot the history of the loss function, we're able to see _how well_ our model is learning over time. I recommend that you read through [this document](https://www.baeldung.com/cs/learning-curve-ml) to get a feel for what we can learn from these kinds of plots.\n",
    "\n",
    "We'll be coming back to this again in later weeks. For now, the point is that the curve of our loss function should be smooth and decreasing regularly over time if the model is learning well."
   ]
  },
  {
   "cell_type": "code",
   "execution_count": 10,
   "metadata": {},
   "outputs": [
    {
     "data": {
      "text/plain": [
       "[<matplotlib.lines.Line2D at 0x7fb3d482ec70>]"
      ]
     },
     "execution_count": 10,
     "metadata": {},
     "output_type": "execute_result"
    },
    {
     "data": {
      "image/png": "[encoded data removed]",
      "text/plain": [
       "<Figure size 640x480 with 1 Axes>"
      ]
     },
     "metadata": {},
     "output_type": "display_data"
    }
   ],
   "source": [
    "loss_H = [val.item() for val in loss_history]\n",
    "fig, ax = plt.subplots()\n",
    "ax.plot(loss_H)"
   ]
  },
  {
   "cell_type": "markdown",
   "metadata": {},
   "source": [
    "## Questions\n",
    "\n",
    "- Do you think the model is learning well?\n",
    "- What problems do we have with this approach so far?\n",
    "    - Hint: we're only using the _training_ data. What about [_test data_](https://en.wikipedia.org/wiki/Training,_validation,_and_test_data_sets)?\n",
    "- Where can the model be improved?"
   ]
  },
  {
   "cell_type": "markdown",
   "metadata": {},
   "source": []
  }
 ],
 "metadata": {
  "kernelspec": {
   "display_name": "Python 3.9.2 64-bit",
   "language": "python",
   "name": "python3"
  },
  "language_info": {
   "codemirror_mode": {
    "name": "ipython",
    "version": 3
   },
   "file_extension": ".py",
   "mimetype": "text/x-python",
   "name": "python",
   "nbconvert_exporter": "python",
   "pygments_lexer": "ipython3",
   "version": "3.9.2"
  },
  "orig_nbformat": 4,
  "vscode": {
   "interpreter": {
    "hash": "31f2aee4e71d21fbe5cf8b01ff0e069b9275f58929596ceb00d14d90e3e16cd6"
   }
  }
 },
 "nbformat": 4,
 "nbformat_minor": 2
}
