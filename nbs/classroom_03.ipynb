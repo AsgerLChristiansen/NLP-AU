{
 "cells": [
  {
   "cell_type": "markdown",
   "metadata": {},
   "source": [
    "# Classroom 3 - Basic machine learning with ```Pytorch```"
   ]
  },
  {
   "cell_type": "markdown",
   "metadata": {},
   "source": [
    "The first thing we need to do for this workshops is install both ```pytorch``` and ```scikit-learn```, along with some other packages we need for this week.\n",
    "\n",
    "```\n",
    "pip install --upgrade pip\n",
    "pip install torch sklearn matplotlib pandas\n",
    "```"
   ]
  },
  {
   "cell_type": "markdown",
   "metadata": {},
   "source": [
    "__Load packages__"
   ]
  },
  {
   "cell_type": "code",
   "execution_count": 1,
   "metadata": {},
   "outputs": [],
   "source": [
    "# system tools\n",
    "import os\n",
    "\n",
    "# pytorch\n",
    "import torch\n",
    "from torch import nn\n",
    "\n",
    "# pandas\n",
    "import pandas as pd\n",
    "\n",
    "# scikit-learn\n",
    "from sklearn import datasets\n",
    "from sklearn.model_selection import train_test_split\n",
    "from sklearn.feature_extraction.text import CountVectorizer, TfidfVectorizer\n",
    "\n",
    "# matplotlib\n",
    "import matplotlib.pyplot as plt"
   ]
  },
  {
   "cell_type": "markdown",
   "metadata": {},
   "source": [
    "__Creating a tensor__"
   ]
  },
  {
   "cell_type": "code",
   "execution_count": 2,
   "metadata": {},
   "outputs": [
    {
     "name": "stdout",
     "output_type": "stream",
     "text": [
      "<class 'torch.Tensor'>\n"
     ]
    }
   ],
   "source": [
    "x_tensor = torch.tensor([[1., -1.], \n",
    "                         [1., -1.]])\n",
    "print(type(x_tensor))"
   ]
  },
  {
   "cell_type": "code",
   "execution_count": 3,
   "metadata": {},
   "outputs": [
    {
     "name": "stdout",
     "output_type": "stream",
     "text": [
      "tensor([[ 1., -1.],\n",
      "        [ 1., -1.]])\n"
     ]
    }
   ],
   "source": [
    "print(x_tensor)"
   ]
  },
  {
   "cell_type": "markdown",
   "metadata": {},
   "source": [
    "__Tensor to numpy arrray__"
   ]
  },
  {
   "cell_type": "code",
   "execution_count": 4,
   "metadata": {},
   "outputs": [
    {
     "name": "stdout",
     "output_type": "stream",
     "text": [
      "<class 'numpy.ndarray'>\n",
      "[[ 1. -1.]\n",
      " [ 1. -1.]]\n"
     ]
    }
   ],
   "source": [
    "# tensor to numpy\n",
    "x_array = x_tensor.numpy()\n",
    "print(type(x_array))\n",
    "\n",
    "print(x_array)"
   ]
  },
  {
   "cell_type": "markdown",
   "metadata": {},
   "source": [
    "__And back again__"
   ]
  },
  {
   "cell_type": "code",
   "execution_count": 5,
   "metadata": {},
   "outputs": [
    {
     "name": "stdout",
     "output_type": "stream",
     "text": [
      "<class 'torch.Tensor'>\n"
     ]
    }
   ],
   "source": [
    "# numpy to tensor\n",
    "x_tensor2 =torch.tensor(x_array)\n",
    "print(type(x_tensor2))"
   ]
  },
  {
   "cell_type": "code",
   "execution_count": 6,
   "metadata": {},
   "outputs": [
    {
     "name": "stdout",
     "output_type": "stream",
     "text": [
      "tensor([[True, True],\n",
      "        [True, True]])\n"
     ]
    }
   ],
   "source": [
    "# check for identity\n",
    "print(x_tensor2 == x_tensor)"
   ]
  },
  {
   "cell_type": "markdown",
   "metadata": {},
   "source": [
    "## Finding the minimum of an polynomial"
   ]
  },
  {
   "cell_type": "markdown",
   "metadata": {},
   "source": [
    "We begin here by creating an initial value for ```x``` and defining the function ```y```.\n",
    "\n",
    "The goal is to find the _minimum_ value of y, i.e. in this case the turning point of the function.\n"
   ]
  },
  {
   "cell_type": "code",
   "execution_count": 7,
   "metadata": {},
   "outputs": [],
   "source": [
    "x = torch.tensor([3.], \n",
    "                 requires_grad=True)"
   ]
  },
  {
   "cell_type": "code",
   "execution_count": 8,
   "metadata": {},
   "outputs": [
    {
     "name": "stdout",
     "output_type": "stream",
     "text": [
      "tensor([2.], grad_fn=<AddBackward0>)\n"
     ]
    }
   ],
   "source": [
    "y = x**2 - 3*x + 2\n",
    "print(y)"
   ]
  },
  {
   "cell_type": "markdown",
   "metadata": {},
   "source": [
    "__Create SGD optimizer__"
   ]
  },
  {
   "cell_type": "code",
   "execution_count": 9,
   "metadata": {},
   "outputs": [],
   "source": [
    "optimizer = torch.optim.SGD([x],     # starting value\n",
    "                            lr=0.01) # learning rate\n"
   ]
  },
  {
   "cell_type": "markdown",
   "metadata": {},
   "source": [
    "__Calcuate the gradient__\n",
    "\n",
    "We first run a _backwards pass_ which computes the gradient of the function ```y``` for given value ```x```"
   ]
  },
  {
   "cell_type": "code",
   "execution_count": 10,
   "metadata": {},
   "outputs": [],
   "source": [
    "y.backward()"
   ]
  },
  {
   "cell_type": "code",
   "execution_count": 11,
   "metadata": {},
   "outputs": [
    {
     "name": "stdout",
     "output_type": "stream",
     "text": [
      "tensor([3.])\n"
     ]
    }
   ],
   "source": [
    "print(x.grad) # examine"
   ]
  },
  {
   "cell_type": "markdown",
   "metadata": {},
   "source": [
    "__Make a step in the right direction__"
   ]
  },
  {
   "cell_type": "code",
   "execution_count": 12,
   "metadata": {},
   "outputs": [],
   "source": [
    "# step in the direction to minimize y\n",
    "optimizer.step()"
   ]
  },
  {
   "cell_type": "code",
   "execution_count": 13,
   "metadata": {},
   "outputs": [],
   "source": [
    "# set the gradient to zero. (This is a bit wierd but required)\n",
    "optimizer.zero_grad()"
   ]
  },
  {
   "cell_type": "code",
   "execution_count": 14,
   "metadata": {},
   "outputs": [
    {
     "name": "stdout",
     "output_type": "stream",
     "text": [
      "tensor([2.9700], requires_grad=True)\n",
      "tensor([0.])\n"
     ]
    }
   ],
   "source": [
    "# we see that x have improved (minimum is 1.5 so moving in the right direction)\n",
    "print(x)\n",
    "# we see that the gradient is set to zero\n",
    "print(x.grad)\n"
   ]
  },
  {
   "cell_type": "markdown",
   "metadata": {},
   "source": [
    "__Run this for 1000 steps__"
   ]
  },
  {
   "cell_type": "code",
   "execution_count": 15,
   "metadata": {},
   "outputs": [
    {
     "name": "stdout",
     "output_type": "stream",
     "text": [
      "tensor([1.5000], requires_grad=True)\n",
      "tensor([0.])\n"
     ]
    }
   ],
   "source": [
    "x = torch.tensor([3.], \n",
    "                 requires_grad=True)\n",
    "optimizer = torch.optim.SGD([x],     # starting value\n",
    "                            lr=0.01) # learning rate\n",
    "\n",
    "for i in range(1000):\n",
    "    #print(x)\n",
    "\n",
    "    # forward pass / or just calculate the outcome\n",
    "    y = x**2 - 3*x + 2\n",
    "\n",
    "    # backward pass on the thing we want to minimize\n",
    "    y.backward()\n",
    "\n",
    "    # take a step in the \"minimize direction\"\n",
    "    optimizer.step()\n",
    "\n",
    "    # zero the gradient\n",
    "    optimizer.zero_grad()\n",
    "\n",
    "\n",
    "print(x)\n",
    "print(x.grad)"
   ]
  },
  {
   "cell_type": "markdown",
   "metadata": {},
   "source": [
    "__Print the local minimum__\n",
    "\n",
    "What we see is that using stochastic gradient descent with a defined starting point allows us to correctly calculate the local minimum of the function."
   ]
  },
  {
   "cell_type": "code",
   "execution_count": 16,
   "metadata": {},
   "outputs": [
    {
     "name": "stdout",
     "output_type": "stream",
     "text": [
      "tensor([1.5000], requires_grad=True)\n"
     ]
    }
   ],
   "source": [
    "print(x)"
   ]
  },
  {
   "cell_type": "markdown",
   "metadata": {},
   "source": [
    "### Bonus task\n",
    "\n",
    "- Try and define some functions of your own and see if you can find the minimum. (There are tools online where you can check what the actual minimum is, to see if the algorithm gets it right!)"
   ]
  },
  {
   "cell_type": "code",
   "execution_count": 17,
   "metadata": {},
   "outputs": [
    {
     "name": "stdout",
     "output_type": "stream",
     "text": [
      "tensor([0.0033], requires_grad=True)\n",
      "tensor([3.3280e-05])\n",
      "tensor([0.0033], requires_grad=True)\n",
      "tensor([3.3274e-05])\n",
      "tensor([0.0033], requires_grad=True)\n",
      "tensor([3.3267e-05])\n",
      "tensor([0.0033], requires_grad=True)\n",
      "tensor([3.3260e-05])\n",
      "tensor([0.0033], requires_grad=True)\n",
      "tensor([3.3254e-05])\n",
      "tensor([0.0033], requires_grad=True)\n",
      "tensor([3.3247e-05])\n",
      "tensor([0.0033], requires_grad=True)\n",
      "tensor([3.3240e-05])\n",
      "tensor([0.0033], requires_grad=True)\n",
      "tensor([3.3234e-05])\n",
      "tensor([0.0033], requires_grad=True)\n",
      "tensor([3.3227e-05])\n",
      "tensor([0.0033], requires_grad=True)\n",
      "tensor([3.3220e-05])\n"
     ]
    }
   ],
   "source": [
    "x = torch.tensor([3.], \n",
    "                 requires_grad=True)\n",
    "\n",
    "\n",
    "\n",
    "optimizer = torch.optim.SGD([x],     # starting value\n",
    "                            lr=0.1) # learning rate\n",
    "\n",
    "for i in range(10000):\n",
    "    #print(x)\n",
    "\n",
    "    # forward pass / or just calculate the outcome\n",
    "    y = x**3\n",
    "\n",
    "    # backward pass on the thing we want to minimize\n",
    "    y.backward()\n",
    "\n",
    "    # take a step in the \"minimize direction\"\n",
    "    optimizer.step()\n",
    "    if i >= 9990:\n",
    "        print(x)\n",
    "        print(x.grad)\n",
    "\n",
    "    # zero the gradient\n",
    "    optimizer.zero_grad()"
   ]
  },
  {
   "cell_type": "markdown",
   "metadata": {},
   "source": [
    "## Linear regression"
   ]
  },
  {
   "cell_type": "markdown",
   "metadata": {},
   "source": [
    "The same general procedure can be used when performing linear regression on data points. \n",
    "\n",
    "In this example, we're using ```scikit-learn``` to artificially generate some data points for us."
   ]
  },
  {
   "cell_type": "code",
   "execution_count": 40,
   "metadata": {},
   "outputs": [
    {
     "name": "stdout",
     "output_type": "stream",
     "text": [
      "[-126.24922409   50.92876904   63.15463302    6.05472009   -5.72954025\n",
      "   -2.75191769   58.70355923   53.81362958  -95.34105851   24.64812471\n",
      "  -59.41697406  -73.42349619 -104.16266749   31.80766772  171.15350154\n",
      "  -67.75196497  141.46769811  -24.36756973   -2.11240097  -32.59583109\n",
      "  -29.41505819  -37.87145989 -101.89829601   46.41287784 -181.34840044\n",
      "  -31.77399504   24.13154879  163.94385144   10.77367111   37.35891532\n",
      "    0.98036703 -120.88573188  138.19938797    9.20267903  -16.2068899\n",
      "   33.21708479  -45.61698488   -1.77758908 -105.56283971    5.26394625\n",
      "   89.5978923   146.10300439  -77.78704394   -3.80893607   60.81195812\n",
      "  -97.2027103    -1.15989334  -43.88245964   15.74278405  -24.27446551\n",
      "  -90.60148118  -19.07314539 -101.79001521  -56.55140067   52.1696979\n",
      " -158.28468928   64.53968736   84.52102913   66.43434451   36.86598297\n",
      "   37.43779494  -82.91713341  -21.4183161    -5.54348338   59.88451573\n",
      "    8.3784894   -17.17634894 -160.50895428 -100.73717846   80.30335894\n",
      "   69.64956653   28.14443518    9.7630474    41.12497399  176.92831393\n",
      "    9.55981705   -4.40463276  -24.03585202   19.1701073   102.48327018\n",
      "  101.52088195  -58.51318402   17.68768961   63.05366753 -102.36728191\n",
      "   -1.65856494   64.66264562  -44.1299115   117.99658351   -4.63168152\n",
      "  -76.71464299  -67.2815873   -12.46435171   24.2973507    31.43120085\n",
      "   34.44108322  -74.76820338  160.99602125   40.69772522   33.43401768]\n"
     ]
    }
   ],
   "source": [
    "X_numpy, y_numpy = datasets.make_regression(n_samples=100,    # number of individual data points\n",
    "                                            n_features=1,     # each data point represents a single feature\n",
    "                                            noise=20,         # technically, SD of gaussian noise applied to the output\n",
    "                                            random_state=4)   # a random state for reproducibility\n",
    "\n",
    "print(y_numpy)\n",
    "#print(X_numpy)"
   ]
  },
  {
   "cell_type": "markdown",
   "metadata": {},
   "source": [
    "__Plot the data__\n",
    "\n",
    "Note that here we're using ```matplotlib``` the lazy way, instead of explicitly defining ```fig, ax```. This is fine for experimental notebooks, but don't do it in your codebases!"
   ]
  },
  {
   "cell_type": "code",
   "execution_count": 34,
   "metadata": {},
   "outputs": [
    {
     "data": {
      "image/png": "[encoded data removed]",
      "text/plain": [
       "<Figure size 640x480 with 1 Axes>"
      ]
     },
     "metadata": {},
     "output_type": "display_data"
    }
   ],
   "source": [
    "# plot the sample\n",
    "plt.plot(X_numpy, y_numpy, 'ro')\n",
    "plt.show()"
   ]
  },
  {
   "cell_type": "markdown",
   "metadata": {},
   "source": [
    "__Convert data to tensors__"
   ]
  },
  {
   "cell_type": "code",
   "execution_count": 35,
   "metadata": {},
   "outputs": [],
   "source": [
    "# cast to float Tensor\n",
    "X = torch.tensor(X_numpy, dtype=torch.float)\n",
    "y = torch.tensor(y_numpy, dtype=torch.float)"
   ]
  },
  {
   "cell_type": "markdown",
   "metadata": {},
   "source": [
    "__Check the shapes__"
   ]
  },
  {
   "cell_type": "code",
   "execution_count": 36,
   "metadata": {},
   "outputs": [
    {
     "name": "stdout",
     "output_type": "stream",
     "text": [
      "torch.Size([100, 1])\n",
      "torch.Size([100])\n"
     ]
    }
   ],
   "source": [
    "print(X.shape)\n",
    "print(y.shape)"
   ]
  },
  {
   "cell_type": "markdown",
   "metadata": {},
   "source": [
    "__Reshape ```y```__"
   ]
  },
  {
   "cell_type": "code",
   "execution_count": 37,
   "metadata": {},
   "outputs": [
    {
     "name": "stdout",
     "output_type": "stream",
     "text": [
      "torch.Size([100, 1])\n"
     ]
    }
   ],
   "source": [
    "y = y.view(y.shape[0], 1) # view is similar to reshape it simply sets the desired shape to (100, 1)\n",
    "print(y.shape)"
   ]
  },
  {
   "cell_type": "markdown",
   "metadata": {},
   "source": [
    "__Check datatypes__"
   ]
  },
  {
   "cell_type": "code",
   "execution_count": 23,
   "metadata": {},
   "outputs": [
    {
     "name": "stdout",
     "output_type": "stream",
     "text": [
      "torch.float32\n",
      "torch.float32\n"
     ]
    }
   ],
   "source": [
    "print(y.dtype)\n",
    "print(x.dtype)"
   ]
  },
  {
   "cell_type": "markdown",
   "metadata": {},
   "source": [
    "__Get number of samples and features__\n",
    "\n",
    "We'll use this information below when calculating loss function etc."
   ]
  },
  {
   "cell_type": "code",
   "execution_count": 24,
   "metadata": {},
   "outputs": [],
   "source": [
    "n_samples, n_features = X.shape"
   ]
  },
  {
   "cell_type": "markdown",
   "metadata": {},
   "source": [
    "__Initialize a linear model__"
   ]
  },
  {
   "cell_type": "code",
   "execution_count": 43,
   "metadata": {},
   "outputs": [],
   "source": [
    "# Linear model f = wx + b\n",
    "input_size = n_features\n",
    "output_size = 1\n",
    "\n",
    "# create a weight and biases (betas and intercept) initialized 'randomly'\n",
    "model = nn.Linear(input_size, output_size)"
   ]
  },
  {
   "cell_type": "markdown",
   "metadata": {},
   "source": [
    "__Set learning rate, check parameters__"
   ]
  },
  {
   "cell_type": "code",
   "execution_count": 44,
   "metadata": {},
   "outputs": [
    {
     "name": "stdout",
     "output_type": "stream",
     "text": [
      "[Parameter containing:\n",
      "tensor([[-0.0431]], requires_grad=True), Parameter containing:\n",
      "tensor([-0.1535], requires_grad=True)]\n"
     ]
    }
   ],
   "source": [
    "learning_rate = 0.01 # feel free to change this\n",
    "print(list(model.parameters())) # only two parameters a beta and an intercept"
   ]
  },
  {
   "cell_type": "markdown",
   "metadata": {},
   "source": [
    "__Define a loss function and an optimization algorithm__"
   ]
  },
  {
   "cell_type": "code",
   "execution_count": 27,
   "metadata": {},
   "outputs": [],
   "source": [
    "criterion = nn.MSELoss()"
   ]
  },
  {
   "cell_type": "code",
   "execution_count": 28,
   "metadata": {},
   "outputs": [],
   "source": [
    "optimizer = torch.optim.SGD(model.parameters(), # parameters to optimize\n",
    "                            lr=learning_rate    # the speed in which we optimize them  / how fast the model learns (think step size) \n",
    "                            ) "
   ]
  },
  {
   "cell_type": "markdown",
   "metadata": {},
   "source": [
    "__Run for 100 epochs__"
   ]
  },
  {
   "cell_type": "code",
   "execution_count": 29,
   "metadata": {},
   "outputs": [
    {
     "name": "stdout",
     "output_type": "stream",
     "text": [
      "epoch: 10, loss = 4122.1748\n",
      "epoch: 20, loss = 2903.1638\n",
      "epoch: 30, loss = 2072.3049\n",
      "epoch: 40, loss = 1505.8817\n",
      "epoch: 50, loss = 1119.6504\n",
      "epoch: 60, loss = 856.2338\n",
      "epoch: 70, loss = 676.5425\n",
      "epoch: 80, loss = 553.9403\n",
      "epoch: 90, loss = 470.2732\n",
      "epoch: 100, loss = 413.1658\n"
     ]
    }
   ],
   "source": [
    "epochs = 100\n",
    "for epoch in range(epochs):\n",
    "    # Forward pass / calc predicted y\n",
    "    # a + b*X\n",
    "    y_predicted = model(X)\n",
    "    \n",
    "    # calucate loss / MSE\n",
    "    loss = criterion(y_predicted, y)\n",
    "    \n",
    "    # Backward pass / gradient and update\n",
    "    loss.backward()\n",
    "    optimizer.step()\n",
    "\n",
    "    # zero grad before new step\n",
    "    optimizer.zero_grad()\n",
    "\n",
    "    # some print to see that it is running\n",
    "    if (epoch+1) % 10 == 0:\n",
    "        print(f'epoch: {epoch+1}, loss = {loss.item():.4f}')"
   ]
  },
  {
   "cell_type": "markdown",
   "metadata": {},
   "source": [
    "__Get predicted values__"
   ]
  },
  {
   "cell_type": "code",
   "execution_count": 38,
   "metadata": {},
   "outputs": [],
   "source": [
    "# Plot\n",
    "predicted = model(X).detach().numpy()"
   ]
  },
  {
   "cell_type": "markdown",
   "metadata": {},
   "source": [
    "__Plot results__"
   ]
  },
  {
   "cell_type": "code",
   "execution_count": 31,
   "metadata": {},
   "outputs": [
    {
     "data": {
      "text/plain": [
       "[<matplotlib.lines.Line2D at 0x7f7154e34940>]"
      ]
     },
     "execution_count": 31,
     "metadata": {},
     "output_type": "execute_result"
    },
    {
     "data": {
      "image/png": "[encoded data removed]",
      "text/plain": [
       "<Figure size 640x480 with 1 Axes>"
      ]
     },
     "metadata": {},
     "output_type": "display_data"
    }
   ],
   "source": [
    "plt.plot(X_numpy, y_numpy, 'ro')\n",
    "plt.plot(X_numpy, predicted, 'b')"
   ]
  },
  {
   "cell_type": "markdown",
   "metadata": {},
   "source": [
    "## Logistic Regression Classifier with text data"
   ]
  },
  {
   "cell_type": "markdown",
   "metadata": {},
   "source": [
    "So far we haven't actually looked at any text data! \n",
    "\n",
    "In the following section, we're going to use some real world text data in a binary classification problem. We're going to use document vectorization techniques we saw in the lecutre, and see how to build a Logistic Regression classifier with ```pytorch```."
   ]
  },
  {
   "cell_type": "code",
   "execution_count": 32,
   "metadata": {},
   "outputs": [
    {
     "ename": "TypeError",
     "evalue": "join() missing 1 required positional argument: 'a'",
     "output_type": "error",
     "traceback": [
      "\u001b[0;31m---------------------------------------------------------------------------\u001b[0m",
      "\u001b[0;31mTypeError\u001b[0m                                 Traceback (most recent call last)",
      "Cell \u001b[0;32mIn [32], line 1\u001b[0m\n\u001b[0;32m----> 1\u001b[0m filepath \u001b[38;5;241m=\u001b[39m \u001b[43mos\u001b[49m\u001b[38;5;241;43m.\u001b[39;49m\u001b[43mpath\u001b[49m\u001b[38;5;241;43m.\u001b[39;49m\u001b[43mjoin\u001b[49m\u001b[43m(\u001b[49m\u001b[43m)\u001b[49m\n",
      "\u001b[0;31mTypeError\u001b[0m: join() missing 1 required positional argument: 'a'"
     ]
    }
   ],
   "source": [
    "filepath = os.path.join()"
   ]
  },
  {
   "cell_type": "code",
   "execution_count": null,
   "metadata": {},
   "outputs": [],
   "source": [
    "data = pd.read_csv(filepath)"
   ]
  },
  {
   "cell_type": "markdown",
   "metadata": {},
   "source": [
    "__Creating train/test splits__\n",
    "\n",
    "A common practice when building ML/DL models is to use explicitly defined subsets of data for different tasks - [training vs testing](https://upload.wikimedia.org/wikipedia/commons/b/bb/ML_dataset_training_validation_test_sets.png), for example. This is slightly different from how we work when doing statistical modelling (in most cases).\n",
    "\n",
    "```scikit-learn``` has a simple tool that allows us to quickly split our dataset."
   ]
  },
  {
   "cell_type": "code",
   "execution_count": null,
   "metadata": {},
   "outputs": [],
   "source": [
    "X_train, X_test, y_train, y_test = train_test_split(data[\"text\"], data[\"label\"], \n",
    "                                                    test_size=0.2, \n",
    "                                                    random_state=42)"
   ]
  },
  {
   "cell_type": "markdown",
   "metadata": {},
   "source": [
    "__Creating a document vectorizer__\n",
    "\n",
    "There are a lot of different parameters here that we're not going to look at but please do [check them out in the documentation](https://scikit-learn.org/stable/modules/generated/sklearn.feature_extraction.text.CountVectorizer.html).\n",
    "\n",
    "The exact same approach can be applied using TfidfVectorizer() instead of CountVectorizer() - [give it a try](https://scikit-learn.org/stable/modules/generated/sklearn.feature_extraction.text.TfidfVectorizer.html)!"
   ]
  },
  {
   "cell_type": "markdown",
   "metadata": {},
   "source": [
    "__Initialize vectorizer__"
   ]
  },
  {
   "cell_type": "code",
   "execution_count": null,
   "metadata": {},
   "outputs": [],
   "source": [
    "vectorizer = CountVectorizer()\n",
    "# vectorizer = TfidfVectorizer()"
   ]
  },
  {
   "cell_type": "markdown",
   "metadata": {},
   "source": [
    "__Fit to the training data__"
   ]
  },
  {
   "cell_type": "code",
   "execution_count": null,
   "metadata": {},
   "outputs": [],
   "source": [
    "# vectorized training data\n",
    "X_train_vect = vectorizer.fit_transform(X_train)\n",
    "\n",
    "# vectorized test data\n",
    "X_test_vect = vectorizer.transform(X_test)"
   ]
  },
  {
   "cell_type": "markdown",
   "metadata": {},
   "source": [
    "__Convert to tensors__"
   ]
  },
  {
   "cell_type": "code",
   "execution_count": null,
   "metadata": {},
   "outputs": [],
   "source": [
    "# vectorized training data\n",
    "X_train_vect = torch.tensor(X_train_vect.toarray(), dtype=torch.float)\n",
    "\n",
    "# vectorized test data\n",
    "X_test_vect = torch.tensor(X_test_vect.toarray(), dtype=torch.float)"
   ]
  },
  {
   "cell_type": "markdown",
   "metadata": {},
   "source": [
    "__Convert labels__"
   ]
  },
  {
   "cell_type": "code",
   "execution_count": null,
   "metadata": {},
   "outputs": [],
   "source": [
    "# training labels\n",
    "y_train = torch.tensor(list(y_train), dtype=torch.float)\n",
    "# test labels\n",
    "y_test = torch.tensor(list(y_test), dtype=torch.float)"
   ]
  },
  {
   "cell_type": "code",
   "execution_count": null,
   "metadata": {},
   "outputs": [],
   "source": [
    "y_train = y_train.view(y_train.shape[0], 1)\n",
    "y_test = y_test.view(y_test.shape[0], 1)"
   ]
  },
  {
   "cell_type": "markdown",
   "metadata": {},
   "source": [
    "__Initialization parameters for Logistic Regression__"
   ]
  },
  {
   "cell_type": "code",
   "execution_count": null,
   "metadata": {},
   "outputs": [],
   "source": [
    "n_samples, n_features = X_train_vect.shape\n",
    "input_size = n_features \n",
    "output_size = 1"
   ]
  },
  {
   "cell_type": "markdown",
   "metadata": {},
   "source": [
    "__Creating the model__\n",
    "\n",
    "Notice here that we are still using a Linear layer, but this time we have a different loss function - [Binary Cross Entropy loss](https://pytorch.org/docs/stable/generated/torch.nn.BCELoss.html)."
   ]
  },
  {
   "cell_type": "code",
   "execution_count": null,
   "metadata": {},
   "outputs": [],
   "source": [
    "# create a weight and biases (betas and intercept) initialized 'randomly'\n",
    "model = nn.Linear(input_size, output_size)\n",
    "learning_rate = 0.01 # feel free to change this"
   ]
  },
  {
   "cell_type": "code",
   "execution_count": null,
   "metadata": {},
   "outputs": [],
   "source": [
    "print(list(model.parameters()))"
   ]
  },
  {
   "cell_type": "code",
   "execution_count": null,
   "metadata": {},
   "outputs": [],
   "source": [
    "criterion = nn.BCELoss()\n",
    "optimizer = torch.optim.SGD(model.parameters(), # parameters to optimize\n",
    "                            lr=learning_rate    # the speed in which we optimize them  / how fast the model learns (think step size) \n",
    "                            ) "
   ]
  },
  {
   "cell_type": "markdown",
   "metadata": {},
   "source": [
    "__Run the model for 100 epochs__"
   ]
  },
  {
   "cell_type": "code",
   "execution_count": null,
   "metadata": {},
   "outputs": [],
   "source": [
    "epochs = 100\n",
    "for epoch in range(epochs):\n",
    "    # Forward pass / calc predicted y\n",
    "    # a + b*X\n",
    "    m = nn.Sigmoid()\n",
    "    y_predicted = model(X_train_vect)\n",
    "\n",
    "    # calucate loss / MSE\n",
    "    loss = criterion(m(y_predicted.round()), y_train)\n",
    "\n",
    "    \n",
    "    # Backward pass / gradient and update\n",
    "    loss.backward()\n",
    "    optimizer.step()\n",
    "\n",
    "    # zero grad before new step\n",
    "    optimizer.zero_grad()\n",
    "\n",
    "    # some print to see that it is running\n",
    "    if (epoch+1) % 10 == 0:\n",
    "        print(f'epoch: {epoch+1}, loss = {loss.item():.4f}')"
   ]
  },
  {
   "cell_type": "markdown",
   "metadata": {},
   "source": [
    "__Check performance against test data__\n",
    "\n",
    "We need to explicitly use ```torch.no_grad()``` here to make sure that we freeze the gradients and don't accidently update them during inferencing."
   ]
  },
  {
   "cell_type": "code",
   "execution_count": null,
   "metadata": {},
   "outputs": [],
   "source": [
    "with torch.no_grad():\n",
    "    y_pred=model(X_test_vect)\n",
    "    y_pred_class=y_pred.round()\n",
    "    correct = sum(y_pred_class==y_test)\n",
    "    print((correct/X_test.shape[0])*100)"
   ]
  },
  {
   "cell_type": "markdown",
   "metadata": {},
   "source": [
    "### Bonus tasks\n",
    "\n",
    "- Can you write your own version of ```CountVectorizer()```? In other words, a function that takes a corpus of documents and creates a bag-of-words representation for every document?\n",
    "- What about ```TfidfVectorizer()```? Make sure to look over the formulae in the slides from Wednesday, and also the Jurafsky and Martin book."
   ]
  }
 ],
 "metadata": {
  "kernelspec": {
   "display_name": "Python 3.9.2 64-bit",
   "language": "python",
   "name": "python3"
  },
  "language_info": {
   "codemirror_mode": {
    "name": "ipython",
    "version": 3
   },
   "file_extension": ".py",
   "mimetype": "text/x-python",
   "name": "python",
   "nbconvert_exporter": "python",
   "pygments_lexer": "ipython3",
   "version": "3.9.2"
  },
  "vscode": {
   "interpreter": {
    "hash": "31f2aee4e71d21fbe5cf8b01ff0e069b9275f58929596ceb00d14d90e3e16cd6"
   }
  }
 },
 "nbformat": 4,
 "nbformat_minor": 4
}
