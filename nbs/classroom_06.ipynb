{
 "cells": [
  {
   "cell_type": "markdown",
   "metadata": {},
   "source": [
    "# Classroom 6 - Training a Named Entity Recognition Model with a LSTM"
   ]
  },
  {
   "cell_type": "markdown",
   "metadata": {},
   "source": [
    "The classroom today is primarily geared towards preparing you for Assignment 4 which you'll be working on after today. The notebook is split into three main parts to get you thinking. You should work through these sections in groups together in class. \n",
    "\n",
    "If you have any questions or things you don't understand, make a note of them so you can remember to ask - or, even better, post them to Slack!\n",
    "\n",
    "If you get through everything here, make a start on the assignment. If you don't, dont' worry about it - but I suggest you finish all of the exercises here before starting the assignment."
   ]
  },
  {
   "cell_type": "markdown",
   "metadata": {},
   "source": [
    "## 1. A very short intro to NER\n",
    "Named entity recognition (NER) also known as named entity extraction, and entity identification is the task of tagging an entity is the task of extracting which seeks to extract named entities from unstructured text into predefined categories such as names, medical codes, quantities or similar.\n",
    "\n",
    "The most common variant is the [CoNLL-20003](https://www.clips.uantwerpen.be/conll2003/ner/) format which uses the categories, person (PER), organization (ORG) location (LOC) and miscellaneous (MISC), which for example denote cases such nationalies. For example:\n",
    "\n",
    "*Hello my name is $Ross_{PER}$ I live in $Aarhus_{LOC}$ and work at $AU_{ORG}$.*\n",
    "\n",
    "For example, let's see how this works with ```spaCy```. NB: you might need to remember to install a ```spaCy``` model:\n",
    "\n",
    "```python -m spacy download en_core_web_sm```"
   ]
  },
  {
   "cell_type": "code",
   "execution_count": 13,
   "metadata": {},
   "outputs": [],
   "source": [
    "import spacy\n",
    "\n",
    "# Importing a language model using spacy.\n",
    "nlp = spacy.load(\"en_core_web_sm\")\n",
    "\n",
    "def tprint(object):\n",
    "    print(\"is an object of type\", type(object))\n"
   ]
  },
  {
   "cell_type": "code",
   "execution_count": 14,
   "metadata": {},
   "outputs": [
    {
     "name": "stdout",
     "output_type": "stream",
     "text": [
      "nlp\n",
      "is an object of type <class 'spacy.lang.en.English'>\n",
      "doc\n",
      "is an object of type <class 'spacy.tokens.doc.Doc'>\n"
     ]
    }
   ],
   "source": [
    "print(\"nlp\")\n",
    "tprint(nlp)\n",
    "print(\"doc\")\n",
    "tprint(doc)"
   ]
  },
  {
   "cell_type": "code",
   "execution_count": 11,
   "metadata": {},
   "outputs": [
    {
     "data": {
      "text/html": [
       "<span class=\"tex2jax_ignore\"><div class=\"entities\" style=\"line-height: 2.5; direction: ltr\">Hello my name is \n",
       "<mark class=\"entity\" style=\"background: #aa9cfc; padding: 0.45em 0.6em; margin: 0 0.25em; line-height: 1; border-radius: 0.35em;\">\n",
       "    Ross\n",
       "    <span style=\"font-size: 0.8em; font-weight: bold; line-height: 1; border-radius: 0.35em; vertical-align: middle; margin-left: 0.5rem\">PERSON</span>\n",
       "</mark>\n",
       ". I live in \n",
       "<mark class=\"entity\" style=\"background: #feca74; padding: 0.45em 0.6em; margin: 0 0.25em; line-height: 1; border-radius: 0.35em;\">\n",
       "    Denmark\n",
       "    <span style=\"font-size: 0.8em; font-weight: bold; line-height: 1; border-radius: 0.35em; vertical-align: middle; margin-left: 0.5rem\">GPE</span>\n",
       "</mark>\n",
       " and work at \n",
       "<mark class=\"entity\" style=\"background: #7aecec; padding: 0.45em 0.6em; margin: 0 0.25em; line-height: 1; border-radius: 0.35em;\">\n",
       "    Aarhus University\n",
       "    <span style=\"font-size: 0.8em; font-weight: bold; line-height: 1; border-radius: 0.35em; vertical-align: middle; margin-left: 0.5rem\">ORG</span>\n",
       "</mark>\n",
       ", I am \n",
       "<mark class=\"entity\" style=\"background: #c887fb; padding: 0.45em 0.6em; margin: 0 0.25em; line-height: 1; border-radius: 0.35em;\">\n",
       "    Scottish\n",
       "    <span style=\"font-size: 0.8em; font-weight: bold; line-height: 1; border-radius: 0.35em; vertical-align: middle; margin-left: 0.5rem\">NORP</span>\n",
       "</mark>\n",
       " and \n",
       "<mark class=\"entity\" style=\"background: #bfe1d9; padding: 0.45em 0.6em; margin: 0 0.25em; line-height: 1; border-radius: 0.35em;\">\n",
       "    today\n",
       "    <span style=\"font-size: 0.8em; font-weight: bold; line-height: 1; border-radius: 0.35em; vertical-align: middle; margin-left: 0.5rem\">DATE</span>\n",
       "</mark>\n",
       " is \n",
       "<mark class=\"entity\" style=\"background: #bfe1d9; padding: 0.45em 0.6em; margin: 0 0.25em; line-height: 1; border-radius: 0.35em;\">\n",
       "    Friday 28th\n",
       "    <span style=\"font-size: 0.8em; font-weight: bold; line-height: 1; border-radius: 0.35em; vertical-align: middle; margin-left: 0.5rem\">DATE</span>\n",
       "</mark>\n",
       ".</div></span>"
      ],
      "text/plain": [
       "<IPython.core.display.HTML object>"
      ]
     },
     "metadata": {},
     "output_type": "display_data"
    },
    {
     "name": "stdout",
     "output_type": "stream",
     "text": [
      "Here, we're importing displacy, and using its .render method upon the doc object from before, in ent-style, to get the above output.\n"
     ]
    }
   ],
   "source": [
    "from spacy import displacy\n",
    "displacy.render(doc, style=\"ent\")\n",
    "\n",
    "print(\"Here, we're importing displacy, and using its .render method upon the doc object from before, in ent-style, to get the above output.\")"
   ]
  },
  {
   "cell_type": "markdown",
   "metadata": {},
   "source": [
    "## Tagging standards\n",
    "There exist different tag standards for NER. The most used one is the BIO-format which frames the task as token classification denoting inside, outside and beginning of a token. \n",
    "\n",
    "Words marked with *O* are not a named entity. Words with NER tags which start with *B-\\** indicate the start of a multiword entity (i.e. *B-ORG* for the *Aarhus* in *Aarhus University*), while *I-\\** indicate the continuation of a token (e.g. University).\n",
    "\n",
    "    B = Beginning\n",
    "    I = Inside\n",
    "    O = Outside\n",
    "\n",
    "<details>\n",
    "<summary>Q: What other formats and standards are available? What kinds of entities do they make it possible to tag?</summary>\n",
    "<br>\n",
    "You can see more examples on the spaCy documentation for their [different models(https://spacy.io/models/en)\n",
    "</details>\n"
   ]
  },
  {
   "cell_type": "code",
   "execution_count": 17,
   "metadata": {},
   "outputs": [
    {
     "name": "stdout",
     "output_type": "stream",
     "text": [
      "is an object of type <class 'spacy.tokens.token.Token'>\n",
      "Hello O\n",
      "is an object of type <class 'spacy.tokens.token.Token'>\n",
      "my O\n",
      "is an object of type <class 'spacy.tokens.token.Token'>\n",
      "name O\n",
      "is an object of type <class 'spacy.tokens.token.Token'>\n",
      "is O\n",
      "is an object of type <class 'spacy.tokens.token.Token'>\n",
      "Ross B-PERSON\n",
      "is an object of type <class 'spacy.tokens.token.Token'>\n",
      ". O\n",
      "is an object of type <class 'spacy.tokens.token.Token'>\n",
      "I O\n",
      "is an object of type <class 'spacy.tokens.token.Token'>\n",
      "live O\n",
      "is an object of type <class 'spacy.tokens.token.Token'>\n",
      "in O\n",
      "is an object of type <class 'spacy.tokens.token.Token'>\n",
      "Denmark B-GPE\n",
      "is an object of type <class 'spacy.tokens.token.Token'>\n",
      "and O\n",
      "is an object of type <class 'spacy.tokens.token.Token'>\n",
      "work O\n",
      "is an object of type <class 'spacy.tokens.token.Token'>\n",
      "at O\n",
      "is an object of type <class 'spacy.tokens.token.Token'>\n",
      "Aarhus B-ORG\n",
      "is an object of type <class 'spacy.tokens.token.Token'>\n",
      "University I-ORG\n",
      "is an object of type <class 'spacy.tokens.token.Token'>\n",
      ", O\n",
      "is an object of type <class 'spacy.tokens.token.Token'>\n",
      "I O\n",
      "is an object of type <class 'spacy.tokens.token.Token'>\n",
      "am O\n",
      "is an object of type <class 'spacy.tokens.token.Token'>\n",
      "Scottish B-NORP\n",
      "is an object of type <class 'spacy.tokens.token.Token'>\n",
      "and O\n",
      "is an object of type <class 'spacy.tokens.token.Token'>\n",
      "today B-DATE\n",
      "is an object of type <class 'spacy.tokens.token.Token'>\n",
      "is O\n",
      "is an object of type <class 'spacy.tokens.token.Token'>\n",
      "Friday B-DATE\n",
      "is an object of type <class 'spacy.tokens.token.Token'>\n",
      "28th I-DATE\n",
      "is an object of type <class 'spacy.tokens.token.Token'>\n",
      ". O\n"
     ]
    }
   ],
   "source": [
    "for t in doc: # For each token (which is a string-like spacy.tokens.token.Token object) in doc:\n",
    "    #tprint(t)\n",
    "    if t.ent_type:\n",
    "        print(t, f\"{t.ent_iob_}-{t.ent_type_}\")\n",
    "    else:\n",
    "        print(t, t.ent_iob_)"
   ]
  },
  {
   "cell_type": "markdown",
   "metadata": {},
   "source": [
    "### Some challenges with NER\n",
    "While NER is currently framed as above this formulating does contain some limitations. \n",
    "\n",
    "For instance the entity Aarhus University really refers to both the location Aarhus, the University within Aarhus, thus nested NER (N-NER) argues that it would be more correct to tag it in a nested fashion as \\[\\[$Aarhus_{LOC}$\\] $University$\\]$_{ORG}$ (Plank, 2020). \n",
    "\n",
    "Other task also include named entity linking. Which is the task of linking an entity to e.g. a wikipedia entry, thus you have to both know that it is indeed an entity and which entity it is (if it is indeed a defined entity).\n",
    "\n",
    "In this assignment, we'll be using Bi-LSTMs to train an NER model on a predifined data set which uses IOB tags of the kind we outlined above."
   ]
  },
  {
   "cell_type": "markdown",
   "metadata": {},
   "source": [
    "## 2. Training in batches\n",
    "\n",
    "When you trained your document classifier for the last assignment, you probably noticed that the neural network was quite brittle. Small changes in the hyperparameters could cause massive changes in performance. Likewise, you probably noticed that they tend to substantially overfit the training data and underperform on the validation and test data.\n",
    "\n",
    "One way we can get around this is by processing the data in smaller chunks known as *batches*. \n",
    "\n",
    "<details>\n",
    "<summary>Q: Why might it be a good idea to train on batches, rather than the whole dataset?</summary>\n",
    "<br>\n",
    "These batches are usually small (something like 32 instances at a time) but they have couple of important effects on training:\n",
    "\n",
    "- Batches can be processed in parallel, rather the sequentially. This can result in substantial speed up from computational perspective\n",
    "- Similarly, smaller batch sizes make it easier to fit training data into memory\n",
    "- Lastly,  smaller batch sizes are noisy, meaning that they have a regularizing effect and thus lead to less overfitting.\n",
    "\n",
    "In this assignment, we're going to be using batches of data to train our NER model. To do that, we first have to prepare our batches for training. You can read more about batching in [this blog post](https://machinelearningmastery.com/how-to-control-the-speed-and-stability-of-training-neural-networks-with-gradient-descent-batch-size/).\n",
    "\n",
    "</details>\n",
    "\n"
   ]
  },
  {
   "cell_type": "code",
   "execution_count": 18,
   "metadata": {},
   "outputs": [],
   "source": [
    "# this allows us to look one step up in the directory\n",
    "# for importing custom modules from src\n",
    "import sys\n",
    "sys.path.append(\"..\")\n",
    "from src.util import batch\n",
    "from src.LSTM import RNN\n",
    "from src.embedding import gensim_to_torch_embedding\n",
    "\n",
    "# numpy and pytorch\n",
    "import numpy as np\n",
    "import torch\n",
    "from torch import nn\n",
    "\n",
    "# loading data and embeddings\n",
    "from datasets import load_dataset\n",
    "import gensim.downloader as api"
   ]
  },
  {
   "cell_type": "markdown",
   "metadata": {},
   "source": [
    "We can download the datset using the ```load_dataset()``` function we've already seen. Here we take only the training data.\n",
    "\n",
    "When you've downloaded the dataset, you're welcome to save a local copy so that we don't need to constantly download it again everytime the code runs.\n",
    "\n",
    "Q: What do the ```train.features``` values refer to?"
   ]
  },
  {
   "cell_type": "code",
   "execution_count": 19,
   "metadata": {},
   "outputs": [
    {
     "data": {
      "application/vnd.jupyter.widget-view+json": {
       "model_id": "04cd8b68c006403aa45f74d9975cebdd",
       "version_major": 2,
       "version_minor": 0
      },
      "text/plain": [
       "Downloading builder script:   0%|          | 0.00/8.73k [00:00<?, ?B/s]"
      ]
     },
     "metadata": {},
     "output_type": "display_data"
    },
    {
     "data": {
      "application/vnd.jupyter.widget-view+json": {
       "model_id": "8dbbfb39c0b14bcd950610e74cb2c008",
       "version_major": 2,
       "version_minor": 0
      },
      "text/plain": [
       "Downloading metadata:   0%|          | 0.00/3.35k [00:00<?, ?B/s]"
      ]
     },
     "metadata": {},
     "output_type": "display_data"
    },
    {
     "data": {
      "application/vnd.jupyter.widget-view+json": {
       "model_id": "26487bc2b896481a9b58651a17594e79",
       "version_major": 2,
       "version_minor": 0
      },
      "text/plain": [
       "Downloading readme:   0%|          | 0.00/5.69k [00:00<?, ?B/s]"
      ]
     },
     "metadata": {},
     "output_type": "display_data"
    },
    {
     "name": "stdout",
     "output_type": "stream",
     "text": [
      "Downloading and preparing dataset conllpp/conllpp (download: 4.63 MiB, generated: 9.78 MiB, post-processed: Unknown size, total: 14.41 MiB) to /home/coder/.cache/huggingface/datasets/conllpp/conllpp/1.0.0/04f15f257dff3fe0fb36e049b73d51ecdf382698682f5e590b7fb13898206ba2...\n"
     ]
    },
    {
     "data": {
      "application/vnd.jupyter.widget-view+json": {
       "model_id": "87747dcecb4b4ed396c6485aed0fa494",
       "version_major": 2,
       "version_minor": 0
      },
      "text/plain": [
       "Downloading data files:   0%|          | 0/3 [00:00<?, ?it/s]"
      ]
     },
     "metadata": {},
     "output_type": "display_data"
    },
    {
     "data": {
      "application/vnd.jupyter.widget-view+json": {
       "model_id": "5ae4b5b620e34c12b4e249fc78bda8f2",
       "version_major": 2,
       "version_minor": 0
      },
      "text/plain": [
       "Downloading data:   0%|          | 0.00/650k [00:00<?, ?B/s]"
      ]
     },
     "metadata": {},
     "output_type": "display_data"
    },
    {
     "data": {
      "application/vnd.jupyter.widget-view+json": {
       "model_id": "3ae823c9173d46b0a8b35464aaf1f8d9",
       "version_major": 2,
       "version_minor": 0
      },
      "text/plain": [
       "Downloading data:   0%|          | 0.00/163k [00:00<?, ?B/s]"
      ]
     },
     "metadata": {},
     "output_type": "display_data"
    },
    {
     "data": {
      "application/vnd.jupyter.widget-view+json": {
       "model_id": "52fec720f2714300adf34fca52ea1f3d",
       "version_major": 2,
       "version_minor": 0
      },
      "text/plain": [
       "Downloading data:   0%|          | 0.00/141k [00:00<?, ?B/s]"
      ]
     },
     "metadata": {},
     "output_type": "display_data"
    },
    {
     "data": {
      "application/vnd.jupyter.widget-view+json": {
       "model_id": "636098e0582443c0a29337a891e4bbf1",
       "version_major": 2,
       "version_minor": 0
      },
      "text/plain": [
       "Extracting data files:   0%|          | 0/3 [00:00<?, ?it/s]"
      ]
     },
     "metadata": {},
     "output_type": "display_data"
    },
    {
     "data": {
      "application/vnd.jupyter.widget-view+json": {
       "model_id": "6edd562a022e4e9383b3197325c8cd00",
       "version_major": 2,
       "version_minor": 0
      },
      "text/plain": [
       "Generating train split:   0%|          | 0/14041 [00:00<?, ? examples/s]"
      ]
     },
     "metadata": {},
     "output_type": "display_data"
    },
    {
     "data": {
      "application/vnd.jupyter.widget-view+json": {
       "model_id": "b7d72481dc4d46479059017ac1afe6b5",
       "version_major": 2,
       "version_minor": 0
      },
      "text/plain": [
       "Generating validation split:   0%|          | 0/3250 [00:00<?, ? examples/s]"
      ]
     },
     "metadata": {},
     "output_type": "display_data"
    },
    {
     "data": {
      "application/vnd.jupyter.widget-view+json": {
       "model_id": "45dd9f1adf594ab0839d7caaa38aeea6",
       "version_major": 2,
       "version_minor": 0
      },
      "text/plain": [
       "Generating test split:   0%|          | 0/3453 [00:00<?, ? examples/s]"
      ]
     },
     "metadata": {},
     "output_type": "display_data"
    },
    {
     "name": "stdout",
     "output_type": "stream",
     "text": [
      "Dataset conllpp downloaded and prepared to /home/coder/.cache/huggingface/datasets/conllpp/conllpp/1.0.0/04f15f257dff3fe0fb36e049b73d51ecdf382698682f5e590b7fb13898206ba2. Subsequent calls will reuse this data.\n"
     ]
    },
    {
     "data": {
      "application/vnd.jupyter.widget-view+json": {
       "model_id": "db982a9b3fc646a096e381178c0d1d57",
       "version_major": 2,
       "version_minor": 0
      },
      "text/plain": [
       "  0%|          | 0/3 [00:00<?, ?it/s]"
      ]
     },
     "metadata": {},
     "output_type": "display_data"
    }
   ],
   "source": [
    "# DATASET\n",
    "dataset = load_dataset(\"conllpp\")"
   ]
  },
  {
   "cell_type": "code",
   "execution_count": 20,
   "metadata": {},
   "outputs": [
    {
     "name": "stdout",
     "output_type": "stream",
     "text": [
      "dataset\n",
      "is an object of type <class 'datasets.dataset_dict.DatasetDict'>\n",
      "DatasetDict({\n",
      "    train: Dataset({\n",
      "        features: ['id', 'tokens', 'pos_tags', 'chunk_tags', 'ner_tags'],\n",
      "        num_rows: 14041\n",
      "    })\n",
      "    validation: Dataset({\n",
      "        features: ['id', 'tokens', 'pos_tags', 'chunk_tags', 'ner_tags'],\n",
      "        num_rows: 3250\n",
      "    })\n",
      "    test: Dataset({\n",
      "        features: ['id', 'tokens', 'pos_tags', 'chunk_tags', 'ner_tags'],\n",
      "        num_rows: 3453\n",
      "    })\n",
      "})\n"
     ]
    }
   ],
   "source": [
    "\n",
    "# inspect the dataset\n",
    "print(\"dataset\")\n",
    "tprint(dataset)\n",
    "print(dataset)\n"
   ]
  },
  {
   "cell_type": "code",
   "execution_count": 24,
   "metadata": {},
   "outputs": [
    {
     "name": "stdout",
     "output_type": "stream",
     "text": [
      "[['EU', 'rejects', 'German', 'call', 'to', 'boycott', 'British', 'lamb', '.'], ['Peter', 'Blackburn'], ['BRUSSELS', '1996-08-22'], ['The', 'European', 'Commission', 'said', 'on', 'Thursday', 'it', 'disagreed', 'with', 'German', 'advice', 'to', 'consumers', 'to', 'shun', 'British', 'lamb', 'until', 'scientists', 'determine', 'whether', 'mad', 'cow', 'disease', 'can', 'be', 'transmitted', 'to', 'sheep', '.'], ['Germany', \"'s\", 'representative', 'to', 'the', 'European', 'Union', \"'s\", 'veterinary', 'committee', 'Werner', 'Zwingmann', 'said', 'on', 'Wednesday', 'consumers', 'should', 'buy', 'sheepmeat', 'from', 'countries', 'other', 'than', 'Britain', 'until', 'the', 'scientific', 'advice', 'was', 'clearer', '.']]\n",
      "is an object of type <class 'list'>\n",
      "[[3, 0, 7, 0, 0, 0, 7, 0, 0], [1, 2], [5, 0], [0, 3, 4, 0, 0, 0, 0, 0, 0, 7, 0, 0, 0, 0, 0, 7, 0, 0, 0, 0, 0, 0, 0, 0, 0, 0, 0, 0, 0, 0], [5, 0, 0, 0, 0, 3, 4, 0, 0, 0, 1, 2, 0, 0, 0, 0, 0, 0, 0, 0, 0, 0, 0, 5, 0, 0, 0, 0, 0, 0, 0]]\n"
     ]
    }
   ],
   "source": [
    "# inspect train\n",
    "train = dataset[\"train\"]\n",
    "\n",
    "print(train[\"tokens\"][:5])\n",
    "tprint(train[\"tokens\"][0])\n",
    "print(train[\"ner_tags\"][:5])\n",
    "\n",
    "# get number of classes\n",
    "num_classes = train.features[\"ner_tags\"].feature.num_classes"
   ]
  },
  {
   "cell_type": "code",
   "execution_count": 28,
   "metadata": {},
   "outputs": [
    {
     "name": "stdout",
     "output_type": "stream",
     "text": [
      "9\n",
      "ClassLabel(names=['O', 'B-PER', 'I-PER', 'B-ORG', 'I-ORG', 'B-LOC', 'I-LOC', 'B-MISC', 'I-MISC'], id=None)\n",
      "ClassLabel(names=['O', 'B-ADJP', 'I-ADJP', 'B-ADVP', 'I-ADVP', 'B-CONJP', 'I-CONJP', 'B-INTJ', 'I-INTJ', 'B-LST', 'I-LST', 'B-NP', 'I-NP', 'B-PP', 'I-PP', 'B-PRT', 'I-PRT', 'B-SBAR', 'I-SBAR', 'B-UCP', 'I-UCP', 'B-VP', 'I-VP'], id=None)\n",
      "ClassLabel(names=['\"', \"''\", '#', '$', '(', ')', ',', '.', ':', '``', 'CC', 'CD', 'DT', 'EX', 'FW', 'IN', 'JJ', 'JJR', 'JJS', 'LS', 'MD', 'NN', 'NNP', 'NNPS', 'NNS', 'NN|SYM', 'PDT', 'POS', 'PRP', 'PRP$', 'RB', 'RBR', 'RBS', 'RP', 'SYM', 'TO', 'UH', 'VB', 'VBD', 'VBG', 'VBN', 'VBP', 'VBZ', 'WDT', 'WP', 'WP$', 'WRB'], id=None)\n"
     ]
    }
   ],
   "source": [
    "print(num_classes)\n",
    "print(train.features[\"ner_tags\"].feature)\n",
    "print(train.features[\"chunk_tags\"].feature)\n",
    "print(train.features[\"pos_tags\"].feature)"
   ]
  },
  {
   "cell_type": "markdown",
   "metadata": {},
   "source": [
    "We then use ```gensim``` to get some pretrained word embeddings for the input layer to the model. \n",
    "\n",
    "In this example, we're going to use a GloVe model pretrained on Wikipedia, with 50 dimensions.\n",
    "\n",
    "I've provided a helper function to take the ```gensim``` embeddings and prepare them for ```pytorch```."
   ]
  },
  {
   "cell_type": "code",
   "execution_count": 29,
   "metadata": {},
   "outputs": [
    {
     "name": "stdout",
     "output_type": "stream",
     "text": [
      "[==================================================] 100.0% 66.0/66.0MB downloaded\n",
      "Loaded!\n"
     ]
    }
   ],
   "source": [
    "# CONVERTING EMBEDDINGS\n",
    "model = api.load(\"glove-wiki-gigaword-50\")\n",
    "print(\"Loaded!\")"
   ]
  },
  {
   "cell_type": "code",
   "execution_count": 56,
   "metadata": {},
   "outputs": [
    {
     "name": "stdout",
     "output_type": "stream",
     "text": [
      "True\n"
     ]
    }
   ],
   "source": [
    "import imp\n",
    "import src.embedding as embedding\n",
    "imp.reload(embedding)\n",
    "from src.embedding import gensim_to_torch_embedding\n",
    "# convert gensim word embedding to torch word embedding\n",
    "embedding_layer, vocab = gensim_to_torch_embedding(model)\n"
   ]
  },
  {
   "cell_type": "code",
   "execution_count": 55,
   "metadata": {},
   "outputs": [
    {
     "name": "stdout",
     "output_type": "stream",
     "text": [
      "is an object of type <class 'dict'>\n",
      "569\n"
     ]
    }
   ],
   "source": [
    "#print(\"model\")\n",
    "#tprint(model)\n",
    "#print(\"which looks like this when printed as a whole. Evidently, it can be indexed.\")\n",
    "#print(model)\n",
    "#print(\"The first index (model[1])\")\n",
    "#tprint(model[1])\n",
    "#print(\"and looks like this!\")\n",
    "#print(model[1])\n",
    "# print(\"In short, this GloVe model is 400000 50-dimensional word-2-vec models; \n",
    "# or 50-dimensional vectors corresponding to words in a semantic space. Neat!\")\n",
    "keytoindex = model.key_to_index\n",
    "tprint(keytoindex)\n",
    "len(keytoindex) # It has 400002 words!\n",
    "print(keytoindex[\"car\"]) # and the word \"car\" has the index 569. In other words, this is a pretrained model in which VECTOR\n",
    "# 569 encodes \"car\" in the semantic vector space!"
   ]
  },
  {
   "cell_type": "code",
   "execution_count": 39,
   "metadata": {},
   "outputs": [
    {
     "name": "stdout",
     "output_type": "stream",
     "text": [
      "is an object of type <class 'numpy.ndarray'>\n"
     ]
    },
    {
     "data": {
      "text/plain": [
       "(400000, 50)"
      ]
     },
     "execution_count": 39,
     "metadata": {},
     "output_type": "execute_result"
    }
   ],
   "source": [
    "#print(model.vectors)\n",
    "tprint(model.vectors)\n",
    "model.vectors.shape # Model contains a 400000 x 50 dimensional matrix, with each row being a word vector!"
   ]
  },
  {
   "cell_type": "markdown",
   "metadata": {},
   "source": [
    "### Preparing a batch\n",
    "\n",
    "The first thing we want to do is to shuffle our dataset before training. \n",
    "\n",
    "Why might it be a good idea to shuffle the data?"
   ]
  },
  {
   "cell_type": "code",
   "execution_count": 59,
   "metadata": {},
   "outputs": [
    {
     "name": "stderr",
     "output_type": "stream",
     "text": [
      "WARNING:datasets.arrow_dataset:Loading cached shuffled indices for dataset at /home/coder/.cache/huggingface/datasets/conllpp/conllpp/1.0.0/04f15f257dff3fe0fb36e049b73d51ecdf382698682f5e590b7fb13898206ba2/cache-bba38be1af2f532c.arrow\n"
     ]
    },
    {
     "data": {
      "text/plain": [
       "[['--',\n",
       "  'FLNC',\n",
       "  'Corsican',\n",
       "  'nationalist',\n",
       "  'movement',\n",
       "  'announces',\n",
       "  'end',\n",
       "  'of',\n",
       "  'truce',\n",
       "  'after',\n",
       "  'last',\n",
       "  'night',\n",
       "  \"'s\",\n",
       "  'attacks',\n",
       "  '.'],\n",
       " ['4-6', '7-6', '(', '7-4', ')'],\n",
       " ['Dealers',\n",
       "  'said',\n",
       "  'that',\n",
       "  'the',\n",
       "  'volume',\n",
       "  'of',\n",
       "  'longer-term',\n",
       "  'government',\n",
       "  'paper',\n",
       "  'declined',\n",
       "  'due',\n",
       "  'to',\n",
       "  'market',\n",
       "  'nervousness',\n",
       "  '.'],\n",
       " ['MONTREAL', 'AT', 'SAN', 'FRANCISCO'],\n",
       " ['\"',\n",
       "  'I',\n",
       "  'would',\n",
       "  'love',\n",
       "  'to',\n",
       "  'speak',\n",
       "  'about',\n",
       "  'everything',\n",
       "  ',',\n",
       "  '\"',\n",
       "  'said',\n",
       "  'Simpson',\n",
       "  ',',\n",
       "  'who',\n",
       "  'vowed',\n",
       "  'after',\n",
       "  'his',\n",
       "  'acquittal',\n",
       "  'to',\n",
       "  'find',\n",
       "  'the',\n",
       "  'killers',\n",
       "  'and',\n",
       "  'offered',\n",
       "  'a',\n",
       "  'substantial',\n",
       "  'reward',\n",
       "  '.']]"
      ]
     },
     "execution_count": 59,
     "metadata": {},
     "output_type": "execute_result"
    }
   ],
   "source": [
    "# shuffle dataset\n",
    "shuffled_train = dataset[\"train\"].shuffle(seed=1) # Reproducible seed is nice. Dataset has a builtin shuffle function. Neat."
   ]
  },
  {
   "cell_type": "markdown",
   "metadata": {},
   "source": [
    "Next, we want to bundle the shuffled training data into smaller batches of predefined size. I've written a small utility function here to help. \n",
    "\n",
    "<details>\n",
    "<summary>Q: Can you explain how the ```batch()``` function works?</summary>\n",
    "<br>\n",
    " Hint: Check out [this link](https://realpython.com/introduction-to-python-generators/).\n",
    "</details>\n",
    "\n"
   ]
  },
  {
   "cell_type": "code",
   "execution_count": 63,
   "metadata": {},
   "outputs": [],
   "source": [
    "batch_size = 32\n",
    "batches_tokens = batch(shuffled_train[\"tokens\"], batch_size)\n",
    "batches_tags = batch(shuffled_train[\"ner_tags\"], batch_size)"
   ]
  },
  {
   "cell_type": "code",
   "execution_count": 64,
   "metadata": {},
   "outputs": [
    {
     "data": {
      "text/plain": [
       "400002"
      ]
     },
     "execution_count": 64,
     "metadata": {},
     "output_type": "execute_result"
    }
   ],
   "source": [
    "# Inspecting vocab\n",
    "\n",
    "len(model.key_to_index)"
   ]
  },
  {
   "cell_type": "markdown",
   "metadata": {},
   "source": [
    "Next, we want to use the ```tokens_to_idx()``` function below on our batches.\n",
    "\n",
    "<details>\n",
    "<summary>Q: What is this function doing? Why is it doing it?</summary>\n",
    "<br>\n",
    "We're making everything lowercase and adding a new, arbitrary token called <UNK> to the vocabulary. This <UNK> means \"unknown\" and is used to replace out-of-vocabulary tokens in the data - i.e. tokens that don't appear in the vocabulary of the pretrained word embeddings.\n",
    "</details>\n"
   ]
  },
  {
   "cell_type": "code",
   "execution_count": 65,
   "metadata": {},
   "outputs": [],
   "source": [
    "def tokens_to_idx(tokens, vocab=model.key_to_index):\n",
    "    \"\"\"\n",
    "    - Write documentation for this function including type hints for each argument and return statement\n",
    "    \n",
    "    - What does the .get method do?\n",
    "    Gets an index from model.key_to_index for the token, assuming it exists in the vocabulary.\n",
    "    - Why lowercase?\n",
    "    Because the model only has lowercase words.\n",
    "    \"\"\"\n",
    "\n",
    "    \n",
    "    return [vocab.get(t.lower(), vocab[\"UNK\"]) for t in tokens]\n",
    "\n",
    "# This is a beautiful, synergetic marriage of vocab (a dictionary), the .get method of a dictionary, and a list comprehension.\n",
    "# Basically, give me a list of token-indexes (i.e., what row of my word2vec matrix does each token correspond to?), in the same order as the tokens appear."
   ]
  },
  {
   "cell_type": "code",
   "execution_count": null,
   "metadata": {},
   "outputs": [],
   "source": []
  },
  {
   "cell_type": "markdown",
   "metadata": {},
   "source": [
    "We'll check below that everything is working as expected as expected by testing it on a single batch."
   ]
  },
  {
   "cell_type": "code",
   "execution_count": 74,
   "metadata": {},
   "outputs": [
    {
     "name": "stdout",
     "output_type": "stream",
     "text": [
      "(['THURSDAY', ',', 'AUGUST', '29TH', 'SCHEDULE'], ['Zenith', 'lands', '$', '1', 'billion', 'contract', ',', 'plans', '$', '100', 'million', 'plant', '.'], ['Corporate', 'America', 'taking', 'new', 'view', 'on', 'compensation', '.'], ['Puchon', '3', 'Chonan', '0', '(', 'halftime', '1-0', ')'], ['A', 'drought', 'scoured', 'the', 'steppes', 'in', 'May', 'and', 'June', ',', 'stunting', 'the', 'growing', 'wheat', '.'], ['--', 'Paris', 'newsroom', '+33', '1', '4221', '5452'], ['Dole', 'also', 'said', 'he', 'opposed', 'California', 'Proposition', '215', 'which', ',', 'if', 'approved', 'by', 'voters', ',', 'would', 'allow', 'the', 'cultivation', 'of', 'marijuana', 'plants', 'for', 'medicinal', 'uses', '.'], ['England', '326', 'all', 'out'], ['But', 'analysts', 'noted', 'that', 'Sierra', 'still', 'has', 'much', 'painful', 'work', 'ahead', 'of', 'it', ',', 'including', 'cutting', 'as', 'many', 'as', '150', 'jobs', 'from', 'its', 'workforce', ',', 'which', 'currently', 'has', '500', 'people', ',', 'and', 'building', 'up', 'the', 'business', 'of', 'its', 'PMC-Sierra', 'unit', ',', 'which', 'makes', 'routing', 'devices', 'and', 'chipsets', 'for', 'high-speed', 'computer', 'networks', '.'], ['Women', \"'s\", 'singles'], ['North', 'Queensland', '21', '6', '0', '15', '266', '593', '12'], ['drawn', ',', 'lost', ',', 'goals', 'for', ',', 'goals', 'against', ',', 'points', ')', ':'], ['CSKA', '6', '1', '1', '4', '4', '7', '4'], ['Morocco', \"'s\", 'Salah', 'Hissou', 'broke', 'the', 'men', \"'s\", '10,000', 'metres', 'world', 'record', 'on', 'Friday', 'when', 'he', 'clocked', '26', 'minutes', '38.08', 'seconds', 'at', 'the', 'Brussels', 'grand', 'prix', 'on', 'Friday', '.'], ['(', 'Sweden', ')', ',', 'Paul', 'Eales', ',', 'David', 'Williams', ',', 'Andrew', 'Coltart', ','], ['Bochum', '1', 'Arminia', 'Bielefeld', '1'], ['Saskatchewan', 'Wheat', 'Pool', 'eyes', 'hog', 'market', '.'], ['They', 'included', 'a', 'black', 'lacquer', 'and', 'mother', 'of', 'pearl', 'inlaid', 'box', 'used', 'by', 'Hendrix', 'to', 'store', 'his', 'drugs', ',', 'which', 'an', 'anonymous', 'Australian', 'purchaser', 'bought', 'for', '5,060', 'pounds', '(', '$', '7,845', ')', '.'], ['ISLAMABAD', '1996-08-27'], ['Cosenza', '1', 'Fiorentina', '3'], ['HELSINKI', '1996-08-29'], ['SAN', 'FRANCISCO', '54', '71', '.432', '14'], ['MINNESOTA', '6', 'Texas', '5'], ['SOCCER', '-', 'DUTCH', 'FIRST', 'DIVISION', 'SUMMARY', '.'], ['A', 'Nigerian', 'human', 'rights', 'group', 'said', 'on', 'Wednesday', 'that', 'four', 'members', 'of', 'a', 'recently', 'banned', 'university', 'union', 'had', 'been', 'arrested', '.'], ['7.', 'Ozers', '8'], ['9,000', '.'], ['(', 'Hungary', '1', '(', '0-0', ')'], ['DETROIT', 'AT', 'KANSAS', 'CITY'], ['out', ',', 'W.', 'Khan', '52', ';', 'R.', 'Illingworth', '4-54', ',', 'S.', 'Lampitt', '4-90', ')', '.'], ['The', 'three', 'Islamic', 'Taleban', 'guards', 'were', 'overpowered', 'by', 'seven', 'Russian', 'aircrew', 'who', 'escaped', 'to', 'UAE', 'state', 'Sharjah', 'last', 'Friday', 'on', 'board', 'their', 'own', 'aircraft', 'after', 'a', 'year', 'in', 'the', 'captivity', 'of', 'Taleban', 'militia', 'in', 'Kandahar', 'in', 'southern', 'Afghanistan', '.'], ['Turnover', '531.52'])\n",
      "([0, 0, 0, 0, 0], [3, 0, 0, 0, 0, 0, 0, 0, 0, 0, 0, 0, 0], [0, 5, 0, 0, 0, 0, 0, 0], [3, 0, 3, 0, 0, 0, 0, 0], [0, 0, 0, 0, 0, 0, 0, 0, 0, 0, 0, 0, 0, 0, 0], [0, 5, 0, 0, 0, 0, 0], [1, 0, 0, 0, 0, 7, 8, 8, 0, 0, 0, 0, 0, 0, 0, 0, 0, 0, 0, 0, 0, 0, 0, 0, 0, 0], [5, 0, 0, 0], [0, 0, 0, 0, 3, 0, 0, 0, 0, 0, 0, 0, 0, 0, 0, 0, 0, 0, 0, 0, 0, 0, 0, 0, 0, 0, 0, 0, 0, 0, 0, 0, 0, 0, 0, 0, 0, 0, 3, 0, 0, 0, 0, 0, 0, 0, 0, 0, 0, 0, 0, 0], [0, 0, 0], [3, 4, 0, 0, 0, 0, 0, 0, 0], [0, 0, 0, 0, 0, 0, 0, 0, 0, 0, 0, 0, 0], [3, 0, 0, 0, 0, 0, 0, 0], [5, 0, 1, 2, 0, 0, 0, 0, 0, 0, 0, 0, 0, 0, 0, 0, 0, 0, 0, 0, 0, 0, 0, 5, 0, 0, 0, 0, 0], [0, 5, 0, 0, 1, 2, 0, 1, 2, 0, 1, 2, 0], [3, 0, 3, 4, 0], [3, 4, 4, 0, 0, 0, 0], [0, 0, 0, 0, 0, 0, 0, 0, 0, 0, 0, 0, 0, 1, 0, 0, 0, 0, 0, 0, 0, 0, 7, 0, 0, 0, 0, 0, 0, 0, 0, 0, 0], [5, 0], [3, 0, 3, 0], [5, 0], [3, 4, 0, 0, 0, 0], [3, 0, 3, 0], [0, 0, 7, 0, 0, 0, 0], [0, 7, 0, 0, 0, 0, 0, 0, 0, 0, 0, 0, 0, 0, 0, 0, 0, 0, 0, 0, 0], [0, 1, 0], [0, 0], [0, 5, 0, 0, 0, 0], [3, 0, 5, 6], [0, 0, 1, 2, 0, 0, 1, 2, 0, 0, 1, 2, 0, 0, 0], [0, 0, 7, 8, 0, 0, 0, 0, 0, 7, 0, 0, 0, 0, 5, 0, 5, 0, 0, 0, 0, 0, 0, 0, 0, 0, 0, 0, 0, 0, 0, 7, 0, 0, 5, 0, 0, 5, 0], [0, 0])\n"
     ]
    },
    {
     "data": {
      "text/plain": [
       "[1668, 453, 582, 50, 1139, 13, 3531, 2]"
      ]
     },
     "execution_count": 74,
     "metadata": {},
     "output_type": "execute_result"
    }
   ],
   "source": [
    "# sample using only the first batch\n",
    "batch_tokens = next(batches_tokens)\n",
    "batch_tags = next(batches_tags)\n",
    "batch_tok_idx = [tokens_to_idx(sent) for sent in batch_tokens] # DOUBLE LIST COMPREHENSION!\n",
    "\n",
    "#print(batch_tok_idx)\n",
    "batch_tok_idx[2]"
   ]
  },
  {
   "cell_type": "markdown",
   "metadata": {},
   "source": [
    "As with document classification, our model needs to take input sequences of a fixed length. To get around this we do a couple of different steps.\n",
    "\n",
    "- Find the length of the longest sequence in the batch\n",
    "- Pad shorter sequences to the max length using an arbitrary token like <PAD>\n",
    "- Give the <PAD> token a new label ```-1``` to differentiate it from the other labels"
   ]
  },
  {
   "cell_type": "code",
   "execution_count": 70,
   "metadata": {},
   "outputs": [],
   "source": [
    "# compute length of longest sentence in batch\n",
    "batch_max_len = max([len(s) for s in batch_tok_idx])"
   ]
  },
  {
   "cell_type": "markdown",
   "metadata": {},
   "source": [
    "Q: Can you figure out the logic of what is happening in the next two cells?"
   ]
  },
  {
   "cell_type": "code",
   "execution_count": 72,
   "metadata": {},
   "outputs": [
    {
     "name": "stdout",
     "output_type": "stream",
     "text": [
      "[[400001. 400001. 400001. ... 400001. 400001. 400001.]\n",
      " [400001. 400001. 400001. ... 400001. 400001. 400001.]\n",
      " [400001. 400001. 400001. ... 400001. 400001. 400001.]\n",
      " ...\n",
      " [400001. 400001. 400001. ... 400001. 400001. 400001.]\n",
      " [400001. 400001. 400001. ... 400001. 400001. 400001.]\n",
      " [400001. 400001. 400001. ... 400001. 400001. 400001.]]\n",
      "[[-1. -1. -1. ... -1. -1. -1.]\n",
      " [-1. -1. -1. ... -1. -1. -1.]\n",
      " [-1. -1. -1. ... -1. -1. -1.]\n",
      " ...\n",
      " [-1. -1. -1. ... -1. -1. -1.]\n",
      " [-1. -1. -1. ... -1. -1. -1.]\n",
      " [-1. -1. -1. ... -1. -1. -1.]]\n"
     ]
    }
   ],
   "source": [
    "batch_input = vocab[\"PAD\"] * np.ones((batch_size, batch_max_len))\n",
    "#vocab[\"PAD\"] is an integer. Specifically, 400001 in this case. It is multiplied by an array of 1's, with 32 rows and max sequence length columns.\n",
    "\n",
    "batch_labels = -1 * np.ones((batch_size, batch_max_len))\n",
    "# Same here, only we're multiplying with -1.\n",
    "print(batch_input)\n",
    "print(batch_labels)\n"
   ]
  },
  {
   "cell_type": "code",
   "execution_count": 26,
   "metadata": {},
   "outputs": [],
   "source": [
    "# copy the data to the numpy array\n",
    "for i in range(batch_size): # For 0, 1, 2, ..., 31\n",
    "    tok_idx = batch_tok_idx[i] # Token indexes from the i'th sequence in the batch.\n",
    "    tags = batch_tags[i] # Token tags for the i'th sequence in the batch.\n",
    "    size = len(tok_idx) # Length of token indexes = length of sequence.\n",
    "\n",
    "    batch_input[i][:size] = tok_idx # The batch_input's i'th row (sequence) is filled up with token indexes, until there are no more.\n",
    "    batch_labels[i][:size] = tags # Same with batch labels.\n",
    "    # The rest are \"PAD\" indexed and -1 labelled (-1 in ner-tags means pad, based on our current definitions)"
   ]
  },
  {
   "cell_type": "markdown",
   "metadata": {},
   "source": [
    "The last step is to conver the arrays into ```pytorch``` tensors, ready for the NN model."
   ]
  },
  {
   "cell_type": "code",
   "execution_count": 27,
   "metadata": {},
   "outputs": [],
   "source": [
    "# since all data are indices, we convert them to torch LongTensors (integers)\n",
    "batch_input, batch_labels = torch.LongTensor(batch_input), torch.LongTensor(\n",
    "    batch_labels\n",
    ")"
   ]
  },
  {
   "cell_type": "markdown",
   "metadata": {},
   "source": [
    "With our data now batched and processed, we want to run it through our RNN the same way as when we trained a clasifier. Note that this cell is incomplete and won't yet run; that's part of the assignment!\n",
    "\n",
    "Q: Why is ```output_dim = num_classes + 1```?"
   ]
  },
  {
   "cell_type": "code",
   "execution_count": null,
   "metadata": {},
   "outputs": [],
   "source": [
    "import imp\n",
    "import src.LSTM as LSTM\n",
    "imp.reload(LSTM)\n",
    "from src.LSTM import RNN\n",
    "\n",
    "\n",
    "# CREATE MODEL\n",
    "model = RNN(\n",
    "    embedding_layer=embedding_layer, output_dim = num_classes + 1, hidden_dim_size = 256\n",
    ")\n",
    "\n",
    "# FORWARD PASS\n",
    "X = batch_input\n",
    "y = model(X)\n",
    "\n",
    "loss = model.loss_fn(outputs=y, labels=batch_labels)\n",
    "\n",
    "# etc, etc\n",
    "\n"
   ]
  },
  {
   "cell_type": "markdown",
   "metadata": {},
   "source": [
    "## 3. Creating an LSTM with ```pytorch```"
   ]
  },
  {
   "cell_type": "markdown",
   "metadata": {},
   "source": [
    "In the file [LSTM.py](../src/LSTM.py), I've aready created an LSTM for you using ```pytorch```. Take some time to read through the code and make sure you understand how it's built up.\n",
    "\n",
    "Some questions for you to discuss in groups:\n",
    "\n",
    "- How is an LSTM layer created using ```pytorch```? How does the code compare to the classifier code you wrote last week?\n",
    "- What's going on with that weird bit that says ```@staticmethod```?\n",
    "  - [This might help](https://realpython.com/instance-class-and-static-methods-demystified/).\n",
    "- On the forward pass, we use ```log_softmax()``` to make output predictions. What is this, and how does it relate to the output from the sigmoid function that we used in the document classification?\n",
    "- How would we make this LSTM model *bidirectional* - i.e. make it a Bi-LSTM? \n",
    "  - Hint: Check the documentation for the LSTM layer on the ```pytorch``` website."
   ]
  }
 ],
 "metadata": {
  "kernelspec": {
   "display_name": "Python 3.9.2 64-bit",
   "language": "python",
   "name": "python3"
  },
  "language_info": {
   "codemirror_mode": {
    "name": "ipython",
    "version": 3
   },
   "file_extension": ".py",
   "mimetype": "text/x-python",
   "name": "python",
   "nbconvert_exporter": "python",
   "pygments_lexer": "ipython3",
   "version": "3.9.2"
  },
  "orig_nbformat": 4,
  "vscode": {
   "interpreter": {
    "hash": "31f2aee4e71d21fbe5cf8b01ff0e069b9275f58929596ceb00d14d90e3e16cd6"
   }
  }
 },
 "nbformat": 4,
 "nbformat_minor": 2
}
